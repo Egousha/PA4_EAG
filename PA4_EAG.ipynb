{
 "cells": [
  {
   "cell_type": "markdown",
   "id": "d737618f",
   "metadata": {},
   "source": [
    "# Evan Gousha\n",
    "## CS-150-02\n",
    "### fall 2021"
   ]
  },
  {
   "cell_type": "markdown",
   "id": "83f33e52",
   "metadata": {},
   "source": [
    "i. append()"
   ]
  },
  {
   "cell_type": "markdown",
   "id": "73a38b42",
   "metadata": {},
   "source": [
    "allows us to append a single element to the end of the list."
   ]
  },
  {
   "cell_type": "code",
   "execution_count": 2,
   "id": "9633dd15",
   "metadata": {},
   "outputs": [
    {
     "data": {
      "text/plain": [
       "[1, 2, 3, 4, 5, 6, 7, 8, 9]"
      ]
     },
     "execution_count": 2,
     "metadata": {},
     "output_type": "execute_result"
    }
   ],
   "source": [
    "numbers=[1,2,3,4,5,6,7,8]\n",
    "numbers.append(9)\n",
    "numbers"
   ]
  },
  {
   "cell_type": "markdown",
   "id": "3480f86b",
   "metadata": {},
   "source": [
    "ii. extend()\n",
    "-allows us to append several elements to the end of a list (in the form of a list)"
   ]
  },
  {
   "cell_type": "code",
   "execution_count": 3,
   "id": "11701d13",
   "metadata": {},
   "outputs": [
    {
     "data": {
      "text/plain": [
       "[1, 2, 3, 4, 5, 6, 7, 8, 9, 10, 11, 12]"
      ]
     },
     "execution_count": 3,
     "metadata": {},
     "output_type": "execute_result"
    }
   ],
   "source": [
    "numbers.extend([10,11,12])\n",
    "numbers"
   ]
  },
  {
   "cell_type": "markdown",
   "id": "2158d04c",
   "metadata": {},
   "source": [
    "iii. insert()\n",
    "-allows us to insert into the list at any location (only 1 element)"
   ]
  },
  {
   "cell_type": "code",
   "execution_count": 4,
   "id": "e6f42e5b",
   "metadata": {},
   "outputs": [
    {
     "data": {
      "text/plain": [
       "[0, 1, 2, 3, 4, 5, 6, 7, 8, 9, 10, 11, 12]"
      ]
     },
     "execution_count": 4,
     "metadata": {},
     "output_type": "execute_result"
    }
   ],
   "source": [
    "numbers.insert(0,0)\n",
    "numbers"
   ]
  },
  {
   "cell_type": "markdown",
   "id": "f60d9da6",
   "metadata": {},
   "source": [
    "iv. remove()\n",
    "-removes an element from the list if it exists (first occurrence)"
   ]
  },
  {
   "cell_type": "code",
   "execution_count": 5,
   "id": "06b31ee2",
   "metadata": {},
   "outputs": [
    {
     "data": {
      "text/plain": [
       "[0, 1, 2, 3, 4, 5, 6, 7, 8, 9, 10, 11]"
      ]
     },
     "execution_count": 5,
     "metadata": {},
     "output_type": "execute_result"
    }
   ],
   "source": [
    "numbers.remove(12)\n",
    "numbers"
   ]
  },
  {
   "cell_type": "markdown",
   "id": "68118a4f",
   "metadata": {},
   "source": [
    "v. count()\n",
    "-returns how many times an element is in a list"
   ]
  },
  {
   "cell_type": "code",
   "execution_count": 6,
   "id": "e8d9ea74",
   "metadata": {},
   "outputs": [
    {
     "data": {
      "text/plain": [
       "1"
      ]
     },
     "execution_count": 6,
     "metadata": {},
     "output_type": "execute_result"
    }
   ],
   "source": [
    "numbers.count(2)"
   ]
  },
  {
   "cell_type": "markdown",
   "id": "4493e498",
   "metadata": {},
   "source": [
    "vi. index()\n",
    "-returns the index of item if it exists in the list - otherwise returns error message"
   ]
  },
  {
   "cell_type": "code",
   "execution_count": 7,
   "id": "ea7a0ce8",
   "metadata": {},
   "outputs": [
    {
     "data": {
      "text/plain": [
       "5"
      ]
     },
     "execution_count": 7,
     "metadata": {},
     "output_type": "execute_result"
    }
   ],
   "source": [
    "numbers.index(5)"
   ]
  },
  {
   "cell_type": "markdown",
   "id": "2b7bb7b4",
   "metadata": {},
   "source": [
    "vii. pop()\n",
    "-removes an item at a specified index value from a list"
   ]
  },
  {
   "cell_type": "code",
   "execution_count": 8,
   "id": "acc66900",
   "metadata": {},
   "outputs": [
    {
     "data": {
      "text/plain": [
       "[0, 1, 2, 3, 4, 6, 7, 8, 9, 10, 11]"
      ]
     },
     "execution_count": 8,
     "metadata": {},
     "output_type": "execute_result"
    }
   ],
   "source": [
    "numbers.pop(5)\n",
    "numbers"
   ]
  },
  {
   "cell_type": "markdown",
   "id": "a02b6c0f",
   "metadata": {},
   "source": [
    "viii. sorted()\n",
    "-returns list in ascecending order."
   ]
  },
  {
   "cell_type": "code",
   "execution_count": 10,
   "id": "6012e5e8",
   "metadata": {},
   "outputs": [
    {
     "data": {
      "text/plain": [
       "[3, 9, 21, 22, 41, 56, 64, 74]"
      ]
     },
     "execution_count": 10,
     "metadata": {},
     "output_type": "execute_result"
    }
   ],
   "source": [
    "numbers1=[21,56,41,22,3,9,64,74]\n",
    "sorted(numbers1)"
   ]
  },
  {
   "cell_type": "markdown",
   "id": "45b5a30d",
   "metadata": {},
   "source": [
    "ix. copy()\n",
    "-returns a copy of a list that is independent of the original list (it can be changed without changing the original list"
   ]
  },
  {
   "cell_type": "code",
   "execution_count": 11,
   "id": "ce16eff1",
   "metadata": {},
   "outputs": [
    {
     "data": {
      "text/plain": [
       "[0, 1, 2, 3, 4, 6, 7, 8, 9, 10, 11]"
      ]
     },
     "execution_count": 11,
     "metadata": {},
     "output_type": "execute_result"
    }
   ],
   "source": [
    "p=numbers.copy()\n",
    "p"
   ]
  },
  {
   "cell_type": "markdown",
   "id": "e0d9d89b",
   "metadata": {},
   "source": [
    "x. clear()\n",
    "-removes all elements from the list"
   ]
  },
  {
   "cell_type": "code",
   "execution_count": 12,
   "id": "8864dadc",
   "metadata": {},
   "outputs": [
    {
     "data": {
      "text/plain": [
       "[]"
      ]
     },
     "execution_count": 12,
     "metadata": {},
     "output_type": "execute_result"
    }
   ],
   "source": [
    "p.clear()\n",
    "p"
   ]
  },
  {
   "cell_type": "markdown",
   "id": "867decc3",
   "metadata": {},
   "source": [
    "xi. any()\n",
    "-retruns True if any item is true"
   ]
  },
  {
   "cell_type": "code",
   "execution_count": 14,
   "id": "c154c2f5",
   "metadata": {},
   "outputs": [
    {
     "data": {
      "text/plain": [
       "True"
      ]
     },
     "execution_count": 14,
     "metadata": {},
     "output_type": "execute_result"
    }
   ],
   "source": [
    "list1=[True,True,False,False,True]\n",
    "any(list1)"
   ]
  },
  {
   "cell_type": "markdown",
   "id": "b70759ed",
   "metadata": {},
   "source": [
    "xii. filter()\n",
    "-extracts elements from an iterable (list, tuple etc.) for which a function returns true"
   ]
  },
  {
   "cell_type": "code",
   "execution_count": 16,
   "id": "c151a4ca",
   "metadata": {},
   "outputs": [
    {
     "name": "stdout",
     "output_type": "stream",
     "text": [
      "[1, 3, 7, 9, 11]\n"
     ]
    }
   ],
   "source": [
    "def odd(number):\n",
    "    if number % 2 == 1:\n",
    "          return True  \n",
    "\n",
    "    return False\n",
    "oddnumbers = filter(odd, numbers)\n",
    "oddnumbers=list(oddnumbers)\n",
    "print(oddnumbers)"
   ]
  },
  {
   "cell_type": "markdown",
   "id": "6f88551c",
   "metadata": {},
   "source": [
    "xiii. list()\n",
    "-takes an iterable object as input and adds its elements to a newly created list"
   ]
  },
  {
   "cell_type": "code",
   "execution_count": 18,
   "id": "e73afef7",
   "metadata": {},
   "outputs": [
    {
     "data": {
      "text/plain": [
       "[1, 4, 5, 6, 7, 8]"
      ]
     },
     "execution_count": 18,
     "metadata": {},
     "output_type": "execute_result"
    }
   ],
   "source": [
    "x=list((1,4,5,6,7,8))\n",
    "x"
   ]
  },
  {
   "cell_type": "markdown",
   "id": "d4160adc",
   "metadata": {},
   "source": [
    "xiv. map()\n",
    "-allows you to process and transform all the items in an iterable without using an explicit for loop"
   ]
  },
  {
   "cell_type": "code",
   "execution_count": 19,
   "id": "f1cf51c9",
   "metadata": {},
   "outputs": [
    {
     "name": "stdout",
     "output_type": "stream",
     "text": [
      "[0, 2, 4, 6, 8, 12, 14, 16, 18, 20, 22]\n"
     ]
    }
   ],
   "source": [
    "def times2(number):\n",
    "    return number * 2\n",
    "numberstimes2 = map(times2, numbers)\n",
    "numberstimes2 = list(numberstimes2)\n",
    "print(numberstimes2)"
   ]
  },
  {
   "cell_type": "markdown",
   "id": "a7d6a621",
   "metadata": {},
   "source": [
    "i.cmp()\n",
    "-Compares elements of both tuples"
   ]
  },
  {
   "cell_type": "code",
   "execution_count": 30,
   "id": "bc26d678",
   "metadata": {},
   "outputs": [
    {
     "ename": "NameError",
     "evalue": "name 'cmp' is not defined",
     "output_type": "error",
     "traceback": [
      "\u001b[1;31m---------------------------------------------------------------------------\u001b[0m",
      "\u001b[1;31mNameError\u001b[0m                                 Traceback (most recent call last)",
      "\u001b[1;32m<ipython-input-30-75b37e61232a>\u001b[0m in \u001b[0;36m<module>\u001b[1;34m\u001b[0m\n\u001b[1;32m----> 1\u001b[1;33m \u001b[0mcmp\u001b[0m\u001b[1;33m(\u001b[0m\u001b[0mtuple1\u001b[0m\u001b[1;33m,\u001b[0m\u001b[0mtuple2\u001b[0m\u001b[1;33m)\u001b[0m\u001b[1;33m\u001b[0m\u001b[1;33m\u001b[0m\u001b[0m\n\u001b[0m",
      "\u001b[1;31mNameError\u001b[0m: name 'cmp' is not defined"
     ]
    }
   ],
   "source": [
    "cmp(tuple1,tuple2)"
   ]
  },
  {
   "cell_type": "markdown",
   "id": "fbb871a5",
   "metadata": {},
   "source": [
    "ii. len()\n",
    "-returns the length of a tuple or any other iterable\n"
   ]
  },
  {
   "cell_type": "code",
   "execution_count": 24,
   "id": "ed87818e",
   "metadata": {},
   "outputs": [
    {
     "data": {
      "text/plain": [
       "6"
      ]
     },
     "execution_count": 24,
     "metadata": {},
     "output_type": "execute_result"
    }
   ],
   "source": [
    "tuple1=(1,4,5,8,7,9)\n",
    "len(tuple1)"
   ]
  },
  {
   "cell_type": "markdown",
   "id": "8a667679",
   "metadata": {},
   "source": [
    "iii. max()\n",
    "-returns highest value of an iterable"
   ]
  },
  {
   "cell_type": "code",
   "execution_count": 25,
   "id": "7e425bc8",
   "metadata": {},
   "outputs": [
    {
     "data": {
      "text/plain": [
       "9"
      ]
     },
     "execution_count": 25,
     "metadata": {},
     "output_type": "execute_result"
    }
   ],
   "source": [
    "max(tuple1)"
   ]
  },
  {
   "cell_type": "markdown",
   "id": "cb0014a8",
   "metadata": {},
   "source": [
    "iv. tuple(seq)\n",
    "-Converts a list into tuple."
   ]
  },
  {
   "cell_type": "code",
   "execution_count": 28,
   "id": "df6b453c",
   "metadata": {},
   "outputs": [
    {
     "data": {
      "text/plain": [
       "(0, 1, 2, 3, 4, 6, 7, 8, 9, 10, 11)"
      ]
     },
     "execution_count": 28,
     "metadata": {},
     "output_type": "execute_result"
    }
   ],
   "source": [
    "tuple(numbers)"
   ]
  },
  {
   "cell_type": "code",
   "execution_count": null,
   "id": "3cc3de3d",
   "metadata": {},
   "outputs": [],
   "source": []
  }
 ],
 "metadata": {
  "kernelspec": {
   "display_name": "Python 3",
   "language": "python",
   "name": "python3"
  },
  "language_info": {
   "codemirror_mode": {
    "name": "ipython",
    "version": 3
   },
   "file_extension": ".py",
   "mimetype": "text/x-python",
   "name": "python",
   "nbconvert_exporter": "python",
   "pygments_lexer": "ipython3",
   "version": "3.8.8"
  }
 },
 "nbformat": 4,
 "nbformat_minor": 5
}
